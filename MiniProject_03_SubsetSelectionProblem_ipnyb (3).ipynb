{
  "nbformat": 4,
  "nbformat_minor": 0,
  "metadata": {
    "colab": {
      "provenance": []
    },
    "kernelspec": {
      "display_name": "Python 3",
      "language": "python",
      "name": "python3"
    },
    "language_info": {
      "codemirror_mode": {
        "name": "ipython",
        "version": 3
      },
      "file_extension": ".py",
      "mimetype": "text/x-python",
      "name": "python",
      "nbconvert_exporter": "python",
      "pygments_lexer": "ipython3",
      "version": "3.8.5"
    }
  },
  "cells": [
    {
      "cell_type": "markdown",
      "metadata": {
        "id": "7nQSRI4Dim1Y"
      },
      "source": [
        "  ---\n",
        "# **Subset Selection Problem**\n",
        "---\n",
        "####**1. Problem Statement:**\n",
        "Find all the subsets from a set of numbers whose sum is zero.\n",
        "\n",
        "####**Constraint: Subset size must be 5**\n",
        "Set={-12, -3, -6, 7, 2, -2, 6, 3, 9, -7, -5, -8, 1, 11, -9, -4}\n",
        "\n",
        "---"
      ]
    },
    {
      "cell_type": "markdown",
      "metadata": {
        "id": "A30y-VtNim1h"
      },
      "source": [
        "### **1.1 Library inclusion**"
      ]
    },
    {
      "cell_type": "code",
      "metadata": {
        "id": "cF_mSA9Xim1j"
      },
      "source": [
        "import random as r"
      ],
      "execution_count": null,
      "outputs": []
    },
    {
      "cell_type": "markdown",
      "metadata": {
        "id": "UjvBYy0Lim1m"
      },
      "source": [
        "### **1.2 Parameter Setting**"
      ]
    },
    {
      "cell_type": "code",
      "metadata": {
        "id": "NHB2KMhZim1o"
      },
      "source": [
        "Set         = set([-12, -3, -6, 7, 2, -2, 6, 3, 9, -7, -5, -8, 1, 11, -9, -4])\n",
        "SetSize     = 5\n",
        "ResultList  = set()    # Store Result List i.e. list of sets whose sum is zero\n",
        "Iterations  = 1000    # Number of Inerations"
      ],
      "execution_count": null,
      "outputs": []
    },
    {
      "cell_type": "markdown",
      "metadata": {
        "id": "BTLd3s--im1c"
      },
      "source": [
        "### **1.3 Start Program**\n",
        "\n",
        "\n"
      ]
    },
    {
      "cell_type": "code",
      "metadata": {
        "id": "veBU-f21im1x"
      },
      "source": [
        "# Loop till number of Iterations\n",
        "for i in range(Iterations):\n",
        "    # Select number of elements from Set\n",
        "    Chromosome = r.sample(Set,SetSize)\n",
        "\n",
        "    # Sum the number of elements in the Chromosome\n",
        "    if sum(Chromosome) == 0:\n",
        "        ResultList.add(tuple(Chromosome))"
      ],
      "execution_count": null,
      "outputs": []
    },
    {
      "cell_type": "markdown",
      "metadata": {
        "id": "nRWYsJNVim1z"
      },
      "source": [
        "### **1.4 Print the sets and total count**\n"
      ]
    },
    {
      "cell_type": "code",
      "metadata": {
        "id": "41abL1k-im10",
        "scrolled": true
      },
      "source": [
        "# Print all the sets whose sum is zero\n",
        "for r in ResultList:\n",
        "\tprint (r)\n",
        "\n",
        "# Print total sets\n",
        "print (\"\\nTotal Sets: \", len(ResultList), \"\\n\")"
      ],
      "execution_count": null,
      "outputs": []
    },
    {
      "cell_type": "markdown",
      "metadata": {
        "id": "E3BNV7YLim12"
      },
      "source": [
        "---\n",
        "### **1.5 Complete Program**\n",
        "---"
      ]
    },
    {
      "cell_type": "code",
      "metadata": {
        "id": "c6KthRB9im14"
      },
      "source": [
        "#-------------------------------------------------------------\n",
        "# Step 1: Library inclusion\n",
        "#-------------------------------------------------------------\n",
        "import random as r\n",
        "\n",
        "\n",
        "#-------------------------------------------------------------\n",
        "# Step 2: Parameter Setting\n",
        "#-------------------------------------------------------------\n",
        "Set         = set([-12, -3, -6, 7, 2, -2, 6, 3, 9, -7, -5, -8, 1, 11, -9, -4])\n",
        "SetSize     = 5\n",
        "ResultList  = set()    # Store Result List i.e. list of sets whose sum is zero\n",
        "Iterations  = 1000   # Number of Inerations\n",
        "\n",
        "\n",
        "#-------------------------------------------------------------\n",
        "# Step3: Start Program\n",
        "#-------------------------------------------------------------\n",
        "\n",
        "# Loop till number of Iterations\n",
        "for i in range(Iterations):\n",
        "    # Select number of elements from Set\n",
        "    Chromosome = r.sample(Set,SetSize)\n",
        "\n",
        "    # Sum the number of elements in the Chromosome\n",
        "    if sum(Chromosome) == 0:\n",
        "        ResultList.add(tuple(Chromosome))\n",
        "\n",
        "# Print all the sets whose sum is zero\n",
        "for r in ResultList:\n",
        "\tprint (r)\n",
        "\n",
        "# Print total sets\n",
        "print (\"\\nTotal Sets: \", len(ResultList))\n"
      ],
      "execution_count": null,
      "outputs": []
    },
    {
      "cell_type": "markdown",
      "metadata": {
        "id": "stxrIcZtk4LT"
      },
      "source": [
        "---\n",
        "### **1.6 Complete Program with sorting**\n",
        "---"
      ]
    },
    {
      "cell_type": "code",
      "metadata": {
        "id": "zzblepy0k4LU"
      },
      "source": [
        "#-------------------------------------------------------------\n",
        "# Step 1: Library inclusion\n",
        "#-------------------------------------------------------------\n",
        "import random as r\n",
        "\n",
        "\n",
        "#-------------------------------------------------------------\n",
        "# Step 2: Parameter Setting\n",
        "#-------------------------------------------------------------\n",
        "Set         = set([-12, -3, -6, 7, 2, -2, 6, 3, 9, -7, -5, -8, 1, 11, -9, -4])\n",
        "SetSize     = 5\n",
        "ResultList  = set()    # Store Result List i.e. list of sets whose sum is zero\n",
        "Iterations  = 1000   # Number of Inerations\n",
        "\n",
        "\n",
        "#-------------------------------------------------------------\n",
        "# Step3: Start Program\n",
        "#-------------------------------------------------------------\n",
        "\n",
        "# Loop till number of Iterations\n",
        "for i in range(Iterations):\n",
        "    # Select number of elements from Set\n",
        "    Chromosome = r.sample(Set,SetSize)\n",
        "    Chromosome.sort()\n",
        "\n",
        "    # Sum the number of elements in the Chromosome\n",
        "    if sum(Chromosome) == 0:\n",
        "        ResultList.add(tuple(Chromosome))\n",
        "\n",
        "# Print all the sets whose sum is zero\n",
        "for r in ResultList:\n",
        "\tprint (r)\n",
        "\n",
        "# Print total sets\n",
        "print (\"\\nTotal Sets: \", len(ResultList))\n"
      ],
      "execution_count": null,
      "outputs": []
    },
    {
      "cell_type": "markdown",
      "metadata": {
        "id": "Kaevs6ROim18"
      },
      "source": [
        "---\n",
        "####**2. Problem Statement:**\n",
        "Find all the subsets from a set of numbers whose sum is zero.\n",
        "\n",
        "####**Constraint: Subset size must be 3 to 6 only**\n",
        "Set={-12, -3, -6, 7, 2, -2, 6, 3, 9, -7, -5, -8, 1, 11, -9, -4}\n",
        "\n",
        "---"
      ]
    },
    {
      "cell_type": "code",
      "metadata": {
        "id": "XmPJbrOXim19"
      },
      "source": [
        "#-------------------------------------------------------------\n",
        "# Step 1: Library inclusion\n",
        "#-------------------------------------------------------------\n",
        "import random as r\n",
        "\n",
        "\n",
        "#-------------------------------------------------------------\n",
        "# Step 2: Parameter Setting\n",
        "#-------------------------------------------------------------\n",
        "Set         = set([-12, -3, -6, 7, 2, -2, 6, 3, 9, -7, -5, -8, 1, 11, -9, -4])\n",
        "SetLB       = 3\n",
        "SetUB       = 6\n",
        "ResultList  = set()    # Store Result List i.e. list of sets whose sum is zero\n",
        "Iterations  = 1000   # Number of Inerations\n",
        "\n",
        "\n",
        "#-------------------------------------------------------------\n",
        "# Step3: Start Program\n",
        "#-------------------------------------------------------------\n",
        "\n",
        "# Loop till number of Iterations\n",
        "for i in range(Iterations):\n",
        "    # Select set size randomly\n",
        "    SetSize = r.randint(SetLB,SetUB)\n",
        "\n",
        "    # Select number of elements from Set\n",
        "    Chromosome = r.sample(Set,SetSize)\n",
        "    Chromosome.sort()\n",
        "\n",
        "    # Sum the number of elements in the Chromosome\n",
        "    if sum(Chromosome) == 0:\n",
        "        ResultList.add(tuple(Chromosome))\n",
        "\n",
        "# Print all the sets whose sum is zero\n",
        "for r in ResultList:\n",
        "\tprint (r)\n",
        "\n",
        "# Print total sets\n",
        "print (\"\\nTotal Sets: \", len(ResultList))\n"
      ],
      "execution_count": null,
      "outputs": []
    }
  ]
}